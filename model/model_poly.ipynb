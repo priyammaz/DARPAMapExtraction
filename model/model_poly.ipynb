{
 "cells": [
  {
   "cell_type": "code",
   "execution_count": null,
   "id": "cb850f9c",
   "metadata": {},
   "outputs": [],
   "source": [
    "import os\n",
    "import random\n",
    "\n",
    "# for visualizations\n",
    "import matplotlib.pyplot as plt\n",
    "import matplotlib.image as mpimg\n",
    "\n",
    "import numpy as np \n",
    "\n",
    "# for bulding and running deep learning model\n",
    "import tensorflow as tf\n",
    "from tensorflow.keras import layers\n",
    "from tensorflow.keras.layers import Input\n",
    "from tensorflow.keras.layers import Conv2D\n",
    "from tensorflow.keras.layers import MaxPooling2D\n",
    "from tensorflow.keras.layers import Dropout \n",
    "from tensorflow.keras.layers import BatchNormalization\n",
    "from tensorflow.keras.layers import Conv2DTranspose\n",
    "from tensorflow.keras.layers import concatenate\n",
    "from tensorflow.keras.losses import binary_crossentropy\n",
    "from sklearn.model_selection import train_test_split"
   ]
  },
  {
   "cell_type": "markdown",
   "id": "d8893d0e",
   "metadata": {},
   "source": [
    "## create a datagenerator "
   ]
  },
  {
   "cell_type": "code",
   "execution_count": null,
   "id": "66d10183",
   "metadata": {},
   "outputs": [],
   "source": [
    "def load_train_img(filename):\n",
    "    \n",
    "    # filename = ('CO_Boulder_1978_Ysp_poly_18_7.png', 'CO_Boulder_1978_Ysp_poly.png')\n",
    "\n",
    "    mapName = '/home/shared/DARPA/all_patched_data/training/poly/map_patches/'+filename[0]\n",
    "    legendName = '/home/shared/DARPA/all_patched_data/training/poly/legend/'+filename[1] \n",
    "\n",
    "    map_img = tf.io.read_file(mapName) # Read image file\n",
    "    map_img = tf.cast(tf.io.decode_png(map_img), dtype=tf.float32) / 255.0\n",
    "\n",
    "    legend_img = tf.io.read_file(legendName) # Read image file\n",
    "    legend_img = tf.cast(tf.io.decode_png(legend_img), dtype=tf.float32) / 255.0\n",
    "    \n",
    "    map_img = tf.concat(axis=2, values = [map_img, legend_img])\n",
    "    map_img = data_augmentation(map_img)\n",
    "    \n",
    "    map_img = map_img*2.0 - 1.0 # range(-1.0,1.0)\n",
    "    map_img = tf.image.resize(map_img, [256, 256])\n",
    "    \n",
    "    segName = '/home/shared/DARPA/all_patched_data/training/poly/seg_patches/'+filename[0]  \n",
    "    \n",
    "    legend_img = tf.io.read_file(segName) # Read image file\n",
    "    legend_img = tf.io.decode_png(legend_img)\n",
    "    legend_img = tf.image.resize(legend_img, [256, 256])\n",
    "    \n",
    "    return map_img, legend_img\n",
    "\n",
    "# img, seg = load_img(('CO_Boulder_1978_Ysp_poly_18_7.png', 'CO_Boulder_1978_Ysp_poly.png'))"
   ]
  },
  {
   "cell_type": "code",
   "execution_count": null,
   "id": "81619192",
   "metadata": {},
   "outputs": [],
   "source": [
    "def load_validation_img(filename):\n",
    "    \n",
    "    # filename = ('CO_Boulder_1978_Ysp_poly_18_7.png', 'CO_Boulder_1978_Ysp_poly.png')\n",
    "\n",
    "    mapName = '/home/shared/DARPA/all_patched_data/validation/poly/map_patches/'+filename[0]\n",
    "    legendName = '/home/shared/DARPA/all_patched_data/validation/poly/legend/'+filename[1] \n",
    "\n",
    "    map_img = tf.io.read_file(mapName) # Read image file\n",
    "    map_img = tf.cast(tf.io.decode_png(map_img), dtype=tf.float32) / 255.0\n",
    "\n",
    "    legend_img = tf.io.read_file(legendName) # Read image file\n",
    "    legend_img = tf.cast(tf.io.decode_png(legend_img), dtype=tf.float32) / 255.0\n",
    "    \n",
    "    map_img = tf.concat(axis=2, values = [map_img, legend_img])\n",
    "    map_img = map_img*2.0 - 1.0 # range(-1.0,1.0)\n",
    "    map_img = tf.image.resize(map_img, [256, 256])\n",
    "    \n",
    "    segName = '/home/shared/DARPA/all_patched_data/validation/poly/seg_patches/'+filename[0]  \n",
    "    \n",
    "    legend_img = tf.io.read_file(segName) # Read image file\n",
    "    legend_img = tf.io.decode_png(legend_img)\n",
    "    legend_img = tf.image.resize(legend_img, [256, 256])\n",
    "    legend_img = legend_img\n",
    "    \n",
    "    return map_img, legend_img\n",
    "\n",
    "# img, seg = load_img(('CO_Boulder_1978_Ysp_poly_18_7.png', 'CO_Boulder_1978_Ysp_poly.png'))"
   ]
  },
  {
   "cell_type": "code",
   "execution_count": null,
   "id": "7c7c2f43",
   "metadata": {},
   "outputs": [],
   "source": [
    "train_map_file = os.listdir('/home/shared/DARPA/all_patched_data/training/poly/map_patches')\n",
    "random.shuffle(train_map_file)\n",
    "train_map_legend_names = [(x, '_'.join(x.split('_')[0:-2])+'.png') for x in train_map_file]\n",
    "\n",
    "train_dataset = tf.data.Dataset.from_tensor_slices(train_map_legend_names)\n",
    "train_dataset = train_dataset.map(load_train_img)\n",
    "train_dataset = train_dataset.shuffle(5000, reshuffle_each_iteration=False).batch(128)\n",
    "\n",
    "# A peek of how BatchDataset \n",
    "# it = iter(train_dataset)\n",
    "# print(next(it))\n",
    "validate_map_file = os.listdir('/home/shared/DARPA/all_patched_data/validation/poly/map_patches')\n",
    "validate_map_legend_names = [(x, '_'.join(x.split('_')[0:-2])+'.png') for x in validate_map_file]\n",
    "\n",
    "validate_dataset = tf.data.Dataset.from_tensor_slices(validate_map_legend_names)\n",
    "validate_dataset = validate_dataset.map(load_validation_img)\n",
    "validate_dataset = validate_dataset.batch(50)"
   ]
  },
  {
   "cell_type": "markdown",
   "id": "24227643",
   "metadata": {},
   "source": [
    "## Constructing the U-Net Architecture"
   ]
  },
  {
   "cell_type": "markdown",
   "id": "898bbcfc",
   "metadata": {},
   "source": [
    "### U-Net Encoder Block"
   ]
  },
  {
   "cell_type": "code",
   "execution_count": null,
   "id": "a8fe5e57",
   "metadata": {},
   "outputs": [],
   "source": [
    "def EncoderMiniBlock(inputs, n_filters=32, dropout_prob=0.3, max_pooling=True):\n",
    "    \"\"\"\n",
    "    This block uses multiple convolution layers, max pool, relu activation to create an architecture for learning. \n",
    "    Dropout can be added for regularization to prevent overfitting. \n",
    "    The block returns the activation values for next layer along with a skip connection which will be used in the decoder\n",
    "    \"\"\"\n",
    "    conv = Conv2D(n_filters, \n",
    "                  3,   # Kernel size   \n",
    "                  activation='relu',\n",
    "                  padding='same',\n",
    "                  kernel_initializer='HeNormal')(inputs)\n",
    "    conv = Conv2D(n_filters, \n",
    "                  3,   # Kernel size\n",
    "                  activation='relu',\n",
    "                  padding='same',\n",
    "                  kernel_initializer='HeNormal')(conv)\n",
    "    \n",
    "    # Batch Normalization will normalize the output of the last layer based on the batch's mean and standard deviation\n",
    "    conv = BatchNormalization()(conv, training=False)\n",
    "\n",
    "    # In case of overfitting, dropout will regularize the loss and gradient computation to shrink the influence of weights on output\n",
    "    if dropout_prob > 0:     \n",
    "        conv = tf.keras.layers.Dropout(dropout_prob)(conv)\n",
    "\n",
    "    if max_pooling:\n",
    "        next_layer = tf.keras.layers.MaxPooling2D(pool_size = (2,2))(conv)    \n",
    "    else:\n",
    "        next_layer = conv\n",
    "\n",
    "    # skip connection (without max pooling) will be input to the decoder layer to prevent information loss during transpose convolutions      \n",
    "    skip_connection = conv\n",
    "    \n",
    "    return next_layer, skip_connection"
   ]
  },
  {
   "cell_type": "markdown",
   "id": "c74ba8a6",
   "metadata": {},
   "source": [
    "### U-Net Decoder Block"
   ]
  },
  {
   "cell_type": "code",
   "execution_count": null,
   "id": "f40fe7f3",
   "metadata": {},
   "outputs": [],
   "source": [
    "def DecoderMiniBlock(prev_layer_input, skip_layer_input, n_filters=32):\n",
    "    \"\"\"\n",
    "    Decoder Block first uses transpose convolution to upscale the image to a bigger size and then,\n",
    "    merges the result with skip layer results from encoder block\n",
    "    Adding 2 convolutions with 'same' padding helps further increase the depth of the network for better predictions\n",
    "    The function returns the decoded layer output\n",
    "    \"\"\"\n",
    "    # Start with a transpose convolution layer to first increase the size of the image\n",
    "    up = Conv2DTranspose(\n",
    "                 n_filters,\n",
    "                 (3,3),    # Kernel size\n",
    "                 strides=(2,2),\n",
    "                 padding='same')(prev_layer_input)\n",
    "\n",
    "    # Merge the skip connection from previous block to prevent information loss\n",
    "    merge = concatenate([up, skip_layer_input], axis=3)\n",
    "    \n",
    "    # Add 2 Conv Layers with relu activation and HeNormal initialization for further processing\n",
    "    # The parameters for the function are similar to encoder\n",
    "    conv = Conv2D(n_filters, \n",
    "                 3,     # Kernel size\n",
    "                 activation='relu',\n",
    "                 padding='same',\n",
    "                 kernel_initializer='HeNormal')(merge)\n",
    "    conv = Conv2D(n_filters,\n",
    "                 3,   # Kernel size\n",
    "                 activation='relu',\n",
    "                 padding='same',\n",
    "                 kernel_initializer='HeNormal')(conv)\n",
    "    return conv"
   ]
  },
  {
   "cell_type": "markdown",
   "id": "9f62b6e5",
   "metadata": {},
   "source": [
    "### Compile U-Net Blocks"
   ]
  },
  {
   "cell_type": "code",
   "execution_count": null,
   "id": "627c65cc",
   "metadata": {},
   "outputs": [],
   "source": [
    "def UNetCompiled(input_size=(256, 256, 6), n_filters=32, n_classes=1):\n",
    "    \"\"\"\n",
    "       Combine both encoder and decoder blocks according to the U-Net research paper\n",
    "       Return the model as output \n",
    "    \"\"\"\n",
    "    # Input size represent the size of 1 image (the size used for pre-processing) \n",
    "    inputs = Input(input_size)\n",
    "    \n",
    "    # Encoder includes multiple convolutional mini blocks with different maxpooling, dropout and filter parameters\n",
    "    # Observe that the filters are increasing as we go deeper into the network which will increasse the # channels of the image \n",
    "    cblock1 = EncoderMiniBlock(inputs, n_filters,dropout_prob=0, max_pooling=True)\n",
    "    cblock2 = EncoderMiniBlock(cblock1[0],n_filters*2,dropout_prob=0, max_pooling=True)\n",
    "    cblock3 = EncoderMiniBlock(cblock2[0], n_filters*4,dropout_prob=0, max_pooling=True)\n",
    "    cblock4 = EncoderMiniBlock(cblock3[0], n_filters*8,dropout_prob=0.3, max_pooling=True)\n",
    "    cblock5 = EncoderMiniBlock(cblock4[0], n_filters*16, dropout_prob=0.3, max_pooling=False) \n",
    "    \n",
    "    # Decoder includes multiple mini blocks with decreasing number of filters\n",
    "    # Observe the skip connections from the encoder are given as input to the decoder\n",
    "    # Recall the 2nd output of encoder block was skip connection, hence cblockn[1] is used\n",
    "    ublock6 = DecoderMiniBlock(cblock5[0], cblock4[1],  n_filters * 8)\n",
    "    ublock7 = DecoderMiniBlock(ublock6, cblock3[1],  n_filters * 4)\n",
    "    ublock8 = DecoderMiniBlock(ublock7, cblock2[1],  n_filters * 2)\n",
    "    ublock9 = DecoderMiniBlock(ublock8, cblock1[1],  n_filters)\n",
    "\n",
    "    # Complete the model with 1 3x3 convolution layer (Same as the prev Conv Layers)\n",
    "    # Followed by a 1x1 Conv layer to get the image to the desired size. \n",
    "    # Observe the number of channels will be equal to number of output classes\n",
    "    conv9 = Conv2D(n_filters,\n",
    "                 3,\n",
    "                 activation='relu',\n",
    "                 padding='same',\n",
    "                 kernel_initializer='he_normal')(ublock9)\n",
    "\n",
    "    conv10 = Conv2D(n_classes, 1, padding='same', activation=\"sigmoid\")(conv9)\n",
    "    \n",
    "    # Define the model\n",
    "    model = tf.keras.Model(inputs=inputs, outputs=conv10)\n",
    "\n",
    "    return model"
   ]
  },
  {
   "cell_type": "code",
   "execution_count": null,
   "id": "595fc3c3",
   "metadata": {},
   "outputs": [],
   "source": [
    "# Call the helper function for defining the layers for the model, given the input image size\n",
    "unet = UNetCompiled(input_size=(256,256,6), n_filters=16, n_classes=1)"
   ]
  },
  {
   "cell_type": "markdown",
   "id": "6a404769",
   "metadata": {},
   "source": [
    "### Compile and Run Model"
   ]
  },
  {
   "cell_type": "code",
   "execution_count": null,
   "id": "2e6c8f20",
   "metadata": {},
   "outputs": [],
   "source": [
    "unet.compile(optimizer=tf.keras.optimizers.Adam(), \n",
    "             loss=tf.keras.losses.binary_crossentropy, #SparseCategoricalCrossentropy(from_logits=True),\n",
    "              metrics=['accuracy', 'acc'])"
   ]
  },
  {
   "cell_type": "code",
   "execution_count": null,
   "id": "78d55f88",
   "metadata": {},
   "outputs": [],
   "source": [
    "cp_callback = tf.keras.callbacks.ModelCheckpoint(\n",
    "    filepath='./saved_model/best_train_validation_model_16_filter.hdf5', \n",
    "    monitor='loss',\n",
    "    verbose=0, \n",
    "    save_best_only=True,\n",
    "    save_freq= 200)"
   ]
  },
  {
   "cell_type": "code",
   "execution_count": null,
   "id": "9bc735c0",
   "metadata": {
    "scrolled": false
   },
   "outputs": [],
   "source": [
    "#load weights\n",
    "if os.path.exists(\"./saved_model/saved/saved_best_train_validation_model_16_filter.hdf5\"):\n",
    "    unet.load_weights(\"./saved_model/saved/saved_best_train_validation_model_16_filter.hdf5\")\n",
    "\n",
    "# Run the model in a mini-batch fashion and compute the progress for each epoch\n",
    "results = unet.fit(train_dataset, epochs=5, callbacks=[cp_callback], validation_data=validate_dataset)"
   ]
  },
  {
   "cell_type": "code",
   "execution_count": null,
   "id": "e647906e",
   "metadata": {},
   "outputs": [],
   "source": [
    "# serialize and save the model that you just trained \n",
    "#saved_model_path = \"/home/shirui/DARPA/DARPAMapExtraction/model/saved_model/my_model.h5\" \n",
    "saved_model_path = \"./saved_model/best_train_validation_model_16_filter.hdf5\"\n",
    "unet.save(saved_model_path)"
   ]
  },
  {
   "cell_type": "markdown",
   "id": "4cd32cb7",
   "metadata": {},
   "source": [
    "## Evaluate Model Results"
   ]
  },
  {
   "cell_type": "code",
   "execution_count": null,
   "id": "8648f27e",
   "metadata": {},
   "outputs": [],
   "source": [
    "unet.load_weights(\"./saved_model/saved_best_train_validation_model_16_filter.hdf5\")"
   ]
  },
  {
   "cell_type": "code",
   "execution_count": null,
   "id": "41fe908d",
   "metadata": {},
   "outputs": [],
   "source": [
    "def plotResult(n, fileName):\n",
    "    test_dataset = tf.data.Dataset.from_tensor_slices([fileName])\n",
    "    test_dataset = test_dataset.map(load_validation_img)\n",
    "    test_dataset = test_dataset.batch(1)\n",
    "\n",
    "    predicted = unet.predict(test_dataset)\n",
    "    \n",
    "    mapName = '/home/shared/DARPA/all_patched_data/validation/poly/map_patches/'+fileName[0]\n",
    "    segName = '/home/shared/DARPA/all_patched_data/validation/poly/seg_patches/'+fileName[0]\n",
    "    legendName = '/home/shared/DARPA/all_patched_data/validation/poly/legend/'+fileName[1]\n",
    "\n",
    "    map_img = mpimg.imread(mapName)\n",
    "    seg_img = mpimg.imread(segName)\n",
    "\n",
    "    label_img = mpimg.imread(legendName)\n",
    "    \n",
    "    plt.rcParams[\"figure.figsize\"] = (25,10)\n",
    "\n",
    "    plt.subplot(n,5,1)\n",
    "    plt.title(\"map\")\n",
    "    plt.imshow(map_img)\n",
    "\n",
    "    plt.subplot(n,5,2)\n",
    "    plt.title(\"legend\")\n",
    "    plt.imshow(label_img)\n",
    "\n",
    "    plt.subplot(n,5,3)\n",
    "    plt.title(\"true segmentation\")\n",
    "    plt.imshow(seg_img) \n",
    "\n",
    "    plt.subplot(n,5,4)\n",
    "    plt.title(\"predicted segmentation\")\n",
    "    predicted[predicted >= 0.5] = 1\n",
    "    predicted[predicted < 0.5] = 0\n",
    "    plt.imshow(predicted[0,:,:,0]) \n",
    "\n",
    "    plt.subplot(n,5,5)\n",
    "    plt.title(\"error\")\n",
    "    plt.imshow((predicted[0,:,:,0]-seg_img).astype(int)) \n",
    "    plt.show()"
   ]
  },
  {
   "cell_type": "code",
   "execution_count": null,
   "id": "51cb8c46",
   "metadata": {},
   "outputs": [],
   "source": [
    "n=4\n",
    "for fileName in random.sample(validate_map_legend_names, n):\n",
    "    print(fileName)\n",
    "    plotResult(n, fileName)"
   ]
  }
 ],
 "metadata": {
  "kernelspec": {
   "display_name": "Python [conda env:.conda-shirui_env]",
   "language": "python",
   "name": "conda-env-.conda-shirui_env-py"
  },
  "language_info": {
   "codemirror_mode": {
    "name": "ipython",
    "version": 3
   },
   "file_extension": ".py",
   "mimetype": "text/x-python",
   "name": "python",
   "nbconvert_exporter": "python",
   "pygments_lexer": "ipython3",
   "version": "3.9.12"
  }
 },
 "nbformat": 4,
 "nbformat_minor": 5
}
