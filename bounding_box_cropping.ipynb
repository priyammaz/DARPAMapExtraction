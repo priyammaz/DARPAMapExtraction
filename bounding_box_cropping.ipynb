{
 "cells": [
  {
   "cell_type": "code",
   "execution_count": null,
   "id": "3499d52b",
   "metadata": {},
   "outputs": [],
   "source": [
    "import cv2\n",
    "from os.path import basename\n",
    "from glob import glob\n",
    "import numpy as np\n",
    "from matplotlib import pyplot as plt\n",
    "from PIL import Image, ImageChops"
   ]
  },
  {
   "cell_type": "code",
   "execution_count": null,
   "id": "96b97124",
   "metadata": {},
   "outputs": [],
   "source": [
    "def map_mask(imarray):\n",
    "    gray = cv2.cvtColor(imarray, cv2.COLOR_BGR2GRAY)  # greyscale image\n",
    "    # Detect Background Color\n",
    "    pix_hist = cv2.calcHist([gray],[0],None,[256],[0,256])\n",
    "    background_pix_value = np.argmax(pix_hist, axis=None)\n",
    "\n",
    "    # Flood fill borders\n",
    "    height, width = gray.shape[:2]\n",
    "    corners = [[0,0],[0,height-1],[width-1, 0],[width-1, height-1]]\n",
    "    for c in corners:\n",
    "        cv2.floodFill(gray, None, (c[0],c[1]), 255)\n",
    "\n",
    "    # AdaptiveThreshold to remove noise\n",
    "    thresh = cv2.adaptiveThreshold(gray, 255, cv2.ADAPTIVE_THRESH_GAUSSIAN_C, cv2.THRESH_BINARY_INV, 21, 4)\n",
    "\n",
    "    # Edge Detection\n",
    "    thresh_blur = cv2.GaussianBlur(thresh, (11, 11), 0)\n",
    "    canny = cv2.Canny(thresh_blur, 0, 200)\n",
    "    canny_dilate = cv2.dilate(canny, cv2.getStructuringElement(cv2.MORPH_ELLIPSE, (7, 7)))\n",
    "\n",
    "    # Finding contours for the detected edges.\n",
    "    contours, hierarchy = cv2.findContours(canny_dilate, cv2.RETR_LIST, cv2.CHAIN_APPROX_NONE)\n",
    "    \n",
    "    # Keeping only the largest detected contour.\n",
    "    contour = sorted(contours, key=cv2.contourArea, reverse=True)[0]\n",
    "\n",
    "    # Mask out everything that is not the map\n",
    "    mask = np.zeros_like(imarray)\n",
    "    cv2.fillPoly(mask, pts=[contour], color=(255,255,255))\n",
    "    masked_img = cv2.bitwise_and(imarray, mask)\n",
    "\n",
    "    return masked_img"
   ]
  },
  {
   "cell_type": "code",
   "execution_count": null,
   "id": "1b16dd57",
   "metadata": {},
   "outputs": [],
   "source": [
    "filePath = '/home/shared/DARPA/training/'\n",
    "trainSource = 'AK_McCarthy.tif'\n",
    "sourceImg = cv2.imread(filePath+trainSource)"
   ]
  },
  {
   "cell_type": "code",
   "execution_count": null,
   "id": "8c2a0c29",
   "metadata": {},
   "outputs": [],
   "source": [
    "maskedImg = map_mask(sourceImg)\n",
    "\n",
    "fig, axs = plt.subplots(1, 2, figsize=(15, 8))\n",
    "axs[0].imshow(sourceImg)\n",
    "axs[1].imshow(maskedImg)\n",
    "\n",
    "plt.show()"
   ]
  }
 ],
 "metadata": {
  "kernelspec": {
   "display_name": "Python 3.9.6 64-bit",
   "language": "python",
   "name": "python3"
  },
  "language_info": {
   "codemirror_mode": {
    "name": "ipython",
    "version": 3
   },
   "file_extension": ".py",
   "mimetype": "text/x-python",
   "name": "python",
   "nbconvert_exporter": "python",
   "pygments_lexer": "ipython3",
   "version": "3.9.6"
  },
  "vscode": {
   "interpreter": {
    "hash": "31f2aee4e71d21fbe5cf8b01ff0e069b9275f58929596ceb00d14d90e3e16cd6"
   }
  }
 },
 "nbformat": 4,
 "nbformat_minor": 5
}
