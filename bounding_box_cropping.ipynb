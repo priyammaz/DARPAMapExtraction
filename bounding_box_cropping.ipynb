{
 "cells": [
  {
   "cell_type": "code",
   "execution_count": 6,
   "id": "3499d52b",
   "metadata": {},
   "outputs": [],
   "source": [
    "import cv2\n",
    "from os.path import basename\n",
    "from glob import glob\n",
    "import numpy as np\n",
    "from matplotlib import pyplot as plt\n",
    "from PIL import Image, ImageChops"
   ]
  },
  {
   "cell_type": "code",
   "execution_count": 16,
   "id": "4a3ee48c",
   "metadata": {},
   "outputs": [],
   "source": [
    "def map_mask(imarray):\n",
    "    ## Crop black borders before map feature dectection\n",
    "    gray = cv2.cvtColor(imarray, cv2.COLOR_BGR2GRAY)\n",
    "    _,thresh = cv2.threshold(gray,1,255,cv2.THRESH_BINARY)\n",
    "    contours,hierarchy = cv2.findContours(thresh,cv2.RETR_EXTERNAL,cv2.CHAIN_APPROX_SIMPLE)\n",
    "    cnt = contours[0]\n",
    "    x,y,w,h = cv2.boundingRect(cnt)\n",
    "\n",
    "    crop = imarray[y:y+h,x:x+w]\n",
    "\n",
    "    ## EDGE DETECTION\n",
    "    gray = cv2.cvtColor(crop, cv2.COLOR_BGR2GRAY)\n",
    "    gray = cv2.GaussianBlur(gray, (11, 11), 0)\n",
    "    # Edge Detection.\n",
    "    canny = cv2.Canny(gray, 0, 200)\n",
    "    canny = cv2.dilate(canny, cv2.getStructuringElement(cv2.MORPH_ELLIPSE, (5, 5)))\n",
    "    \n",
    "    # Finding contours for the detected edges.\n",
    "    contours, hierarchy = cv2.findContours(canny, cv2.RETR_LIST, cv2.CHAIN_APPROX_NONE)\n",
    "    \n",
    "    # Keeping only the largest detected contour.\n",
    "    contour = sorted(contours, key=cv2.contourArea, reverse=True)[0]\n",
    "\n",
    "    # Mask out everything that is not the map\n",
    "    mask = np.zeros_like(crop)\n",
    "    cv2.fillPoly(mask, pts=[contour], color=(255,255,255))\n",
    "    masked_crop = cv2.bitwise_and(crop, mask)\n",
    "\n",
    "    # Reapply black borders to maintain correct image size\n",
    "    masked_img = np.zeros_like(imarray)\n",
    "    masked_img[y:y+h,x:x+w] = masked_crop\n",
    "\n",
    "    return masked_img"
   ]
  },
  {
   "cell_type": "code",
   "execution_count": null,
   "id": "1b16dd57",
   "metadata": {},
   "outputs": [],
   "source": [
    "filePath = '/home/shared/DARPA/training/'\n",
    "trainSource = 'AK_McCarthy.tif'\n",
    "sourceImg = cv2.imread(filePath+trainSource)"
   ]
  },
  {
   "cell_type": "code",
   "execution_count": null,
   "id": "8c2a0c29",
   "metadata": {},
   "outputs": [],
   "source": [
    "maskedImg = map_mask(sourceImg)\n",
    "\n",
    "fig, axs = plt.subplots(1, 2, figsize=(15, 8))\n",
    "axs[0].imshow(sourceImg)\n",
    "axs[1].imshow(maskedImg)\n",
    "\n",
    "plt.show()"
   ]
  }
 ],
 "metadata": {
  "kernelspec": {
   "display_name": "Python [conda env:.conda-DARPA]",
   "language": "python",
   "name": "conda-env-.conda-DARPA-py"
  },
  "language_info": {
   "codemirror_mode": {
    "name": "ipython",
    "version": 3
   },
   "file_extension": ".py",
   "mimetype": "text/x-python",
   "name": "python",
   "nbconvert_exporter": "python",
   "pygments_lexer": "ipython3",
   "version": "3.9.9"
  }
 },
 "nbformat": 4,
 "nbformat_minor": 5
}
