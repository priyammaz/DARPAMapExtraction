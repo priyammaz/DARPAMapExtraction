{
 "cells": [
  {
   "cell_type": "markdown",
   "id": "83958dbf",
   "metadata": {},
   "source": [
    "## neural network that use two image as inputs for segmentation\n",
    "one input is from tif, the other input is from cropped legend image, output is the segmentation label. "
   ]
  },
  {
   "cell_type": "code",
   "execution_count": null,
   "id": "dcc3dea2",
   "metadata": {},
   "outputs": [],
   "source": [
    "import numpy as np\n",
    "import tensorflow as tf\n",
    "import matplotlib.pyplot as plt"
   ]
  },
  {
   "cell_type": "code",
   "execution_count": null,
   "id": "3c67f3d8",
   "metadata": {},
   "outputs": [],
   "source": [
    "legend_input = tf.keras.layers.Input(shape=(1,), name='pressure')\n",
    "tif_input = tf.keras.layers.Input(shape=(1,), name='precipitation')\n",
    "\n",
    "# Lets legend_input through a stack of conv layers \n",
    "\n",
    "x = tf.keras.layers.Dense(units=32, activation='relu')(legend_input)\n",
    "x = tf.keras.layers.Dense(units=16, activation='relu')(x)\n",
    "\n",
    "# Lets legend_input through a stack of conv layers \n",
    "\n",
    "y = tf.keras.layers.Dense(units=32, activation='relu')(legend_input)\n",
    "y = tf.keras.layers.Dense(units=32, activation='relu')(y)\n",
    "y = tf.keras.layers.Dense(units=16, activation='relu')(y)\n",
    "\n",
    "\n",
    "# Lets merge the two branches and send through a few more layers\n",
    "z = tf.keras.layers.concatenate([x,y])\n",
    "z = tf.keras.layers.Dense(units=32, activation='relu')(z)\n",
    "z = tf.keras.layers.Dense(units=16, activation='relu')(z)\n",
    "\n",
    "# Finally split again into two outputs\n",
    "temperature = tf.keras.layers.Dense(units=1, name='temperature')(z)\n",
    "humidity = tf.keras.layers.Dense(units=1, name='humidity')(z)\n",
    "\n",
    "\n",
    "multiple_inp_model = tf.keras.Model(inputs=[legend_input, tif_input], \n",
    "                       outputs=[segmentation], name=\"multi_input_UNet_model\")"
   ]
  }
 ],
 "metadata": {
  "kernelspec": {
   "display_name": "Python [conda env:.conda-DARPA]",
   "language": "python",
   "name": "conda-env-.conda-DARPA-py"
  },
  "language_info": {
   "codemirror_mode": {
    "name": "ipython",
    "version": 3
   },
   "file_extension": ".py",
   "mimetype": "text/x-python",
   "name": "python",
   "nbconvert_exporter": "python",
   "pygments_lexer": "ipython3",
   "version": "3.9.9"
  }
 },
 "nbformat": 4,
 "nbformat_minor": 5
}
