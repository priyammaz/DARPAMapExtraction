{
 "cells": [
  {
   "cell_type": "markdown",
   "id": "83958dbf",
   "metadata": {},
   "source": [
    "## neural network that use two image as inputs for segmentation\n",
    "one input is from tif, the other input is from cropped legend image, output is the segmentation label. "
   ]
  },
  {
   "cell_type": "code",
   "execution_count": 12,
   "id": "dcc3dea2",
   "metadata": {},
   "outputs": [],
   "source": [
    "import numpy as np\n",
    "import tensorflow as tf\n",
    "import matplotlib.pyplot as plt\n",
    "\n",
    "from tensorflow.keras.models import *\n",
    "from tensorflow.keras.layers import *\n",
    "from tensorflow.keras.optimizers import *\n",
    "from tensorflow.keras.callbacks import ModelCheckpoint, LearningRateScheduler\n",
    "from tensorflow.keras import backend as keras"
   ]
  },
  {
   "cell_type": "code",
   "execution_count": null,
   "id": "468b21cb",
   "metadata": {},
   "outputs": [],
   "source": [
    "# def unet(pretrained_weights = None, tif_input_size = (128,128,3), legend_input_size=(32,32,3)):"
   ]
  },
  {
   "cell_type": "code",
   "execution_count": 8,
   "id": "e69afa09",
   "metadata": {},
   "outputs": [],
   "source": [
    "tif_input_size = (128,128,3)\n",
    "legend_input_size = (32,32,3)"
   ]
  },
  {
   "cell_type": "code",
   "execution_count": 9,
   "id": "cdc2c4ac",
   "metadata": {},
   "outputs": [],
   "source": [
    "tif_input = tf.keras.layers.Input(shape=tif_input_size, name='tif_input')\n",
    "legend_input = tf.keras.layers.Input(shape=legend_input_size, name='legend_input')"
   ]
  },
  {
   "cell_type": "code",
   "execution_count": 10,
   "id": "e7f610ab",
   "metadata": {},
   "outputs": [
    {
     "data": {
      "text/plain": [
       "<KerasTensor: shape=(None, 128, 128, 3) dtype=float32 (created by layer 'tif')>"
      ]
     },
     "execution_count": 10,
     "metadata": {},
     "output_type": "execute_result"
    }
   ],
   "source": [
    "tif_input"
   ]
  },
  {
   "cell_type": "code",
   "execution_count": 13,
   "id": "417beac7",
   "metadata": {},
   "outputs": [
    {
     "name": "stderr",
     "output_type": "stream",
     "text": [
      "2022-09-26 22:10:49.390026: E tensorflow/stream_executor/cuda/cuda_driver.cc:271] failed call to cuInit: CUDA_ERROR_NO_DEVICE: no CUDA-capable device is detected\n",
      "2022-09-26 22:10:49.390076: I tensorflow/stream_executor/cuda/cuda_diagnostics.cc:169] retrieving CUDA diagnostic information for host: hal02\n",
      "2022-09-26 22:10:49.390092: I tensorflow/stream_executor/cuda/cuda_diagnostics.cc:176] hostname: hal02\n",
      "2022-09-26 22:10:49.392166: I tensorflow/stream_executor/cuda/cuda_diagnostics.cc:200] libcuda reported version is: 515.65.1\n",
      "2022-09-26 22:10:49.392196: I tensorflow/stream_executor/cuda/cuda_diagnostics.cc:204] kernel reported version is: 515.65.1\n",
      "2022-09-26 22:10:49.392206: I tensorflow/stream_executor/cuda/cuda_diagnostics.cc:310] kernel version seems to match DSO: 515.65.1\n"
     ]
    }
   ],
   "source": [
    "# Lets tif_input through a stack of conv layers \n",
    "\n",
    "conv1 = Conv2D(64, 3, activation = 'relu', padding = 'same', kernel_initializer = 'he_normal')(tif_input)\n",
    "conv1 = BatchNormalization()(conv1)\n",
    "conv1 = Conv2D(64, 3, activation = 'relu', padding = 'same', kernel_initializer = 'he_normal')(conv1)\n",
    "conv1 = BatchNormalization()(conv1)\n",
    "pool1 = MaxPooling2D(pool_size=(2, 2))(conv1)"
   ]
  },
  {
   "cell_type": "code",
   "execution_count": null,
   "id": "3c67f3d8",
   "metadata": {},
   "outputs": [],
   "source": [
    "\n",
    "\n",
    "conv2 = Conv2D(32, 3, activation = 'relu', padding = 'same', kernel_initializer = 'he_normal')(pool1)\n",
    "conv2 = BatchNormalization()(conv2)\n",
    "conv2 = Conv2D(32, 3, activation = 'relu', padding = 'same', kernel_initializer = 'he_normal')(conv2)\n",
    "conv2 = BatchNormalization()(conv2)\n",
    "pool2 = MaxPooling2D(pool_size=(2, 2))(conv2)\n",
    "\n",
    "# Lets legend_input through a stack of conv layers \n",
    "\n",
    "y = tf.keras.layers.Dense(units=32, activation='relu')(legend_input)\n",
    "y = tf.keras.layers.Dense(units=32, activation='relu')(y)\n",
    "y = tf.keras.layers.Dense(units=16, activation='relu')(y)\n",
    "\n",
    "\n",
    "# Lets merge the two branches and send through a few more layers\n",
    "z = tf.keras.layers.concatenate([x,y])\n",
    "z = tf.keras.layers.Dense(units=32, activation='relu')(z)\n",
    "z = tf.keras.layers.Dense(units=16, activation='relu')(z)\n",
    "\n",
    "# Finally split again into two outputs\n",
    "temperature = tf.keras.layers.Dense(units=1, name='temperature')(z)\n",
    "humidity = tf.keras.layers.Dense(units=1, name='humidity')(z)\n",
    "\n",
    "\n",
    "two_inputs_model = tf.keras.Model(inputs=[tif_input, legend_input], \n",
    "                       outputs=[segmentation], name=\"multi_input_UNet_model\")"
   ]
  }
 ],
 "metadata": {
  "kernelspec": {
   "display_name": "Python [conda env:opence-v1.6.1]",
   "language": "python",
   "name": "conda-env-opence-v1.6.1-py"
  },
  "language_info": {
   "codemirror_mode": {
    "name": "ipython",
    "version": 3
   },
   "file_extension": ".py",
   "mimetype": "text/x-python",
   "name": "python",
   "nbconvert_exporter": "python",
   "pygments_lexer": "ipython3",
   "version": "3.9.12"
  }
 },
 "nbformat": 4,
 "nbformat_minor": 5
}
