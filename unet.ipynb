{
 "cells": [
  {
   "cell_type": "code",
   "execution_count": 10,
   "id": "bab9ac66-ff1e-4ac5-b348-e2d5ef3a73ed",
   "metadata": {},
   "outputs": [],
   "source": [
    "import torch\n",
    "import torch.nn as nn\n",
    "import torch.nn.functional as F\n",
    "from torchvision import transforms\n",
    "from torch.utils.data import random_split\n",
    "from torch.utils.data import Dataset, DataLoader\n",
    "import os\n",
    "from PIL import Image\n",
    "from tqdm import tqdm\n",
    "import numpy as np\n",
    "import matplotlib.pyplot as plt\n",
    "PATH_TO_DATA = \"/mnt/analysis/analysis/DARPA/data/training\""
   ]
  },
  {
   "cell_type": "code",
   "execution_count": 13,
   "id": "4d37ac41-1605-4cce-8c79-4cf9e171475f",
   "metadata": {},
   "outputs": [
    {
     "name": "stdout",
     "output_type": "stream",
     "text": [
      "Fri Oct  7 07:01:22 2022       \n",
      "+-----------------------------------------------------------------------------+\n",
      "| NVIDIA-SMI 460.91.03    Driver Version: 460.91.03    CUDA Version: 11.2     |\n",
      "|-------------------------------+----------------------+----------------------+\n",
      "| GPU  Name        Persistence-M| Bus-Id        Disp.A | Volatile Uncorr. ECC |\n",
      "| Fan  Temp  Perf  Pwr:Usage/Cap|         Memory-Usage | GPU-Util  Compute M. |\n",
      "|                               |                      |               MIG M. |\n",
      "|===============================+======================+======================|\n",
      "|   0  TITAN RTX           Off  | 00000000:01:00.0  On |                  N/A |\n",
      "| 41%   54C    P5    46W / 280W |   3098MiB / 24212MiB |      3%      Default |\n",
      "|                               |                      |                  N/A |\n",
      "+-------------------------------+----------------------+----------------------+\n",
      "|   1  TITAN RTX           Off  | 00000000:02:00.0 Off |                  N/A |\n",
      "| 41%   37C    P8    24W / 280W |   1770MiB / 24220MiB |      0%      Default |\n",
      "|                               |                      |                  N/A |\n",
      "+-------------------------------+----------------------+----------------------+\n",
      "                                                                               \n",
      "+-----------------------------------------------------------------------------+\n",
      "| Processes:                                                                  |\n",
      "|  GPU   GI   CI        PID   Type   Process name                  GPU Memory |\n",
      "|        ID   ID                                                   Usage      |\n",
      "|=============================================================================|\n",
      "|    0   N/A  N/A      1507      G   /usr/lib/xorg/Xorg                198MiB |\n",
      "|    0   N/A  N/A      2396      G   /usr/lib/xorg/Xorg                666MiB |\n",
      "|    0   N/A  N/A      2530      G   /usr/bin/gnome-shell               82MiB |\n",
      "|    0   N/A  N/A      3093      G   ...AAAAAAAAA= --shared-files      153MiB |\n",
      "|    0   N/A  N/A      6722      G   ...AAAAAAAAA= --shared-files      124MiB |\n",
      "|    0   N/A  N/A    264023      C   ...da3/envs/torch/bin/python     1791MiB |\n",
      "|    1   N/A  N/A      1507      G   /usr/lib/xorg/Xorg                  4MiB |\n",
      "|    1   N/A  N/A      2396      G   /usr/lib/xorg/Xorg                  4MiB |\n",
      "|    1   N/A  N/A    264023      C   ...da3/envs/torch/bin/python     1757MiB |\n",
      "+-----------------------------------------------------------------------------+\n"
     ]
    }
   ],
   "source": [
    "!nvidia-smi"
   ]
  },
  {
   "cell_type": "code",
   "execution_count": 3,
   "id": "6ec03320-c57e-4500-8285-2020bc2ae311",
   "metadata": {},
   "outputs": [],
   "source": [
    "class DoubleConv(nn.Module):\n",
    "    \"\"\"(convolution => [BN] => ReLU) * 2\"\"\"\n",
    "\n",
    "    def __init__(self, in_channels, out_channels, mid_channels=None):\n",
    "        super().__init__()\n",
    "        if not mid_channels:\n",
    "            mid_channels = out_channels\n",
    "        self.double_conv = nn.Sequential(\n",
    "            nn.Conv2d(in_channels, mid_channels, kernel_size=3, padding=1, bias=False),\n",
    "            nn.BatchNorm2d(mid_channels),\n",
    "            nn.ReLU(inplace=True),\n",
    "            nn.Conv2d(mid_channels, out_channels, kernel_size=3, padding=1, bias=False),\n",
    "            nn.BatchNorm2d(out_channels),\n",
    "            nn.ReLU(inplace=True)\n",
    "        )\n",
    "\n",
    "    def forward(self, x):\n",
    "        return self.double_conv(x)\n",
    "\n",
    "\n",
    "class Down(nn.Module):\n",
    "    \"\"\"Downscaling with maxpool then double conv\"\"\"\n",
    "\n",
    "    def __init__(self, in_channels, out_channels):\n",
    "        super().__init__()\n",
    "        self.maxpool_conv = nn.Sequential(\n",
    "            nn.MaxPool2d(2),\n",
    "            DoubleConv(in_channels, out_channels)\n",
    "        )\n",
    "\n",
    "    def forward(self, x):\n",
    "        return self.maxpool_conv(x)\n",
    "\n",
    "\n",
    "class Up(nn.Module):\n",
    "    \"\"\"Upscaling then double conv\"\"\"\n",
    "\n",
    "    def __init__(self, in_channels, out_channels, bilinear=True, bottleneck=False):\n",
    "        super().__init__()\n",
    "\n",
    "        # if bilinear, use the normal convolutions to reduce the number of channels\n",
    "        if bilinear:\n",
    "            self.up = nn.Upsample(scale_factor=2, mode='bilinear', align_corners=True)\n",
    "            self.conv = DoubleConv(in_channels, out_channels, in_channels // 2)\n",
    "        elif bottleneck:\n",
    "            self.up = nn.ConvTranspose2d(in_channels, in_channels // 4, kernel_size=2, stride=2)\n",
    "            self.conv = DoubleConv(in_channels//2, out_channels)\n",
    "        else:\n",
    "            self.up = nn.ConvTranspose2d(in_channels, in_channels // 2, kernel_size=2, stride=2)\n",
    "            self.conv = DoubleConv(in_channels, out_channels)\n",
    "\n",
    "    def forward(self, x1, x2):\n",
    "        x1 = self.up(x1)\n",
    "\n",
    "        # input is CHW\n",
    "        diffY = x2.size()[2] - x1.size()[2]\n",
    "        diffX = x2.size()[3] - x1.size()[3]\n",
    "\n",
    "        x1 = F.pad(x1, [diffX // 2, diffX - diffX // 2,\n",
    "                        diffY // 2, diffY - diffY // 2])\n",
    "\n",
    "        x = torch.cat([x2, x1], dim=1)\n",
    "        \n",
    "        return self.conv(x)\n",
    "\n",
    "\n",
    "class OutConv(nn.Module):\n",
    "    def __init__(self, in_channels, out_channels):\n",
    "        super(OutConv, self).__init__()\n",
    "        self.conv = nn.Conv2d(in_channels, out_channels, kernel_size=1)\n",
    "\n",
    "    def forward(self, x):\n",
    "        return self.conv(x)"
   ]
  },
  {
   "cell_type": "code",
   "execution_count": 4,
   "id": "6316ff46-34a8-4127-b110-cd688053c2f1",
   "metadata": {},
   "outputs": [],
   "source": [
    "class DoubleUNet(nn.Module):\n",
    "    def __init__(self, n_channels=3, n_classes=1, bilinear=False):\n",
    "        super(DoubleUNet, self).__init__()\n",
    "        self.n_channels = n_channels\n",
    "        self.n_classes = n_classes\n",
    "        self.bilinear = bilinear\n",
    "        \n",
    "        factor = 2 if bilinear else 1\n",
    "        \n",
    "        ### MAP ENCODER ###\n",
    "        self.map_inc = DoubleConv(n_channels, 8)\n",
    "        self.map_down1 = Down(8, 16)\n",
    "        self.map_down2 = Down(16, 32)\n",
    "        self.map_down3 = Down(32, 64)\n",
    "        self.map_down4 = Down(64, 128 // factor)\n",
    "        \n",
    "        ### LABEL ENCODER ###\n",
    "        self.label_inc = DoubleConv(n_channels, 8)\n",
    "        self.label_down1 = Down(8, 16)\n",
    "        self.label_down2 = Down(16, 32)\n",
    "        self.label_down3 = Down(32, 64)\n",
    "        self.label_down4 = Down(64, 128 // factor)\n",
    "        \n",
    "        self.up1 = Up(256, 64 // factor, bilinear, bottleneck=True)\n",
    "        self.up2 = Up(64, 32 // factor, bilinear)\n",
    "        self.up3 = Up(32, 16 // factor, bilinear)\n",
    "        self.up4 = Up(16, 8, bilinear)\n",
    "        self.outc = OutConv(8, n_classes)\n",
    "    \n",
    "    def map_encoder(self, x):\n",
    "        x1 = self.map_inc(x)\n",
    "        x2 = self.map_down1(x1)\n",
    "        x3 = self.map_down2(x2)\n",
    "        x4 = self.map_down3(x3)\n",
    "        x5 = self.map_down4(x4)\n",
    "        return x1, x2, x3, x4, x5\n",
    "    \n",
    "    def label_encoder(self, x):\n",
    "        x = self.map_inc(x)\n",
    "        x = self.map_down1(x)\n",
    "        x = self.map_down2(x)\n",
    "        x = self.map_down3(x)\n",
    "        x = self.map_down4(x)\n",
    "        return x\n",
    "        \n",
    "    def forward(self, map_patch, label):\n",
    "        x1, x2, x3, x4, x5 = self.map_encoder(map_patch)\n",
    "        label_emb = self.label_encoder(label)\n",
    "        x_cat = torch.cat((x5, label_emb), axis=1)\n",
    "        x = self.up1(x_cat, x4)\n",
    "        x = self.up2(x, x3)\n",
    "        x = self.up3(x, x2)\n",
    "        x = self.up4(x, x1)\n",
    "        logits = self.outc(x)\n",
    "        return logits\n"
   ]
  },
  {
   "cell_type": "code",
   "execution_count": 5,
   "id": "ac165cf9-b814-4e32-ad29-25dc75b82ddc",
   "metadata": {},
   "outputs": [],
   "source": [
    "class MapLoader(Dataset):\n",
    "    def __init__(self, PATH_TO_DATA, label_transform, map_transform, seg_transform):\n",
    "        self.label_transforms = label_transform\n",
    "        self.map_transforms = map_transform\n",
    "        self.seg_transforms = seg_transform\n",
    "        self.path_to_map = os.path.join(PATH_TO_DATA, \"map_patches\")\n",
    "        self.path_to_labels = os.path.join(PATH_TO_DATA, \"labels\")\n",
    "        self.path_to_segs = os.path.join(PATH_TO_DATA, \"seg_patches\")\n",
    "        self.filenames = os.listdir(self.path_to_map)\n",
    "        \n",
    "        \n",
    "    def __len__(self):\n",
    "        return len(self.filenames)\n",
    "    \n",
    "    def __getitem__(self, idx):\n",
    "        file = self.filenames[idx]\n",
    "        path_to_map_file = os.path.join(self.path_to_map, file)\n",
    "        path_to_seg_file = os.path.join(self.path_to_segs, file)\n",
    "        path_to_label_file = os.path.join(self.path_to_labels, file)\n",
    "        \n",
    "        map_patch = self.map_transforms(Image.open(path_to_map_file))\n",
    "        seg_patch = self.seg_transforms(Image.open(path_to_seg_file))\n",
    "        label = self.label_transforms(Image.open(path_to_label_file))\n",
    "        \n",
    "        ### RESCALE BETWEEN -1 and 1 ###\n",
    "        map_patch = 2 * map_patch - 1\n",
    "        label = 2 * label - 1\n",
    "        \n",
    "        return map_patch, seg_patch, label\n",
    "        "
   ]
  },
  {
   "cell_type": "code",
   "execution_count": 6,
   "id": "62a8bc13-4db6-47f4-8614-951a90b6f366",
   "metadata": {},
   "outputs": [],
   "source": [
    "# ### CALCULATE NORMALIZATION ###\n",
    "# data_transform = transforms.Compose([\n",
    "#     transforms.ToTensor()\n",
    "# ])\n",
    "\n",
    "# dataset = MapLoader(PATH_TO_DATA, transforms=data_transform)\n",
    "# lengths = [int(len(dataset) * 0.95), len(dataset) - int(len(dataset) * 0.95)]\n",
    "# trainset, _ = random_split(dataset, lengths, generator=torch.Generator().manual_seed(42))\n",
    "\n",
    "# trainloader = DataLoader(trainset, \n",
    "#                          batch_size=32,\n",
    "#                          shuffle=True,\n",
    "#                          num_workers=8)\n",
    "\n",
    "# map_means, map_stds, label_means, label_stds = [], [], [], []\n",
    "\n",
    "# for i, (map_patch, _, label) in tqdm(enumerate(trainloader), total=len(trainloader)):\n",
    "#     map_patch = map_patch.numpy()\n",
    "#     label = label.numpy()\n",
    "    \n",
    "#     map_mean = np.mean(map_patch, axis=(0, 2, 3))\n",
    "#     map_std = np.std(map_patch, axis=(0, 2, 3))\n",
    "    \n",
    "#     label_mean = np.mean(label, axis=(0, 2, 3))\n",
    "#     label_std = np.std(label, axis=(0, 2, 3))\n",
    "    \n",
    "#     map_means.append(map_mean)\n",
    "#     map_stds.append(map_std)\n",
    "#     label_means.append(label_mean)\n",
    "#     label_stds.append(label_std)\n",
    "    \n",
    "\n",
    "# map_mean = torch.tensor(np.mean(map_means, axis=0))\n",
    "# map_std = torch.tensor(np.mean(map_stds, axis=0))\n",
    "\n",
    "# label_mean = torch.tensor(np.mean(label_means, axis=0))\n",
    "# label_std = torch.tensor(np.mean(label_stds, axis=0))\n",
    "\n",
    "# print(f\"Map Mean: {map_mean}\")\n",
    "# print(f\"Map Std: {map_std}\")\n",
    "# print(f\"Label Mean: {label_mean}\")\n",
    "# print(f\"Label Std: {label_std}\")\n",
    "\n"
   ]
  },
  {
   "cell_type": "code",
   "execution_count": 7,
   "id": "a284284a-1c0e-47ed-b63c-97a2ec49c132",
   "metadata": {},
   "outputs": [],
   "source": [
    "map_mean = torch.tensor([0.7677, 0.7403, 0.6487])\n",
    "map_std = torch.tensor([0.2415, 0.2356, 0.2564])\n",
    "label_mean = torch.tensor([0.8048, 0.7714, 0.6715])\n",
    "label_std = torch.tensor([0.2528, 0.2472, 0.2757])\n",
    "\n",
    "map_transform = transforms.Compose([\n",
    "    transforms.Resize((128,128)),\n",
    "    transforms.ToTensor(),\n",
    "    transforms.Normalize(map_mean, map_std)\n",
    "])\n",
    "\n",
    "lab_transform = transforms.Compose([\n",
    "    transforms.Resize((128,128)),\n",
    "    transforms.ToTensor(),\n",
    "    transforms.Normalize(map_mean, map_std)\n",
    "])\n",
    "\n",
    "seg_transform = transforms.Compose([\n",
    "    transforms.Resize((128,128)),\n",
    "    transforms.ToTensor(),\n",
    "])\n",
    "\n",
    "dataset = MapLoader(PATH_TO_DATA, label_transform=lab_transform, map_transform=map_transform, seg_transform=seg_transform)\n",
    "lengths = [int(len(dataset) * 0.95), len(dataset) - int(len(dataset) * 0.95)]\n",
    "trainset, testset = random_split(dataset, lengths, generator=torch.Generator().manual_seed(42))\n",
    "\n",
    "\n",
    "BATCH_SIZE = 64\n",
    "\n",
    "trainloader = DataLoader(trainset, \n",
    "                         batch_size=BATCH_SIZE,\n",
    "                         shuffle=True,\n",
    "                         num_workers=8)\n",
    "\n",
    "\n",
    "testloader = DataLoader(testset, \n",
    "                        batch_size=BATCH_SIZE,\n",
    "                        shuffle=False,\n",
    "                        num_workers=8)\n"
   ]
  },
  {
   "cell_type": "code",
   "execution_count": 8,
   "id": "3ed1cd24-e183-4245-89d9-7ecc4bfc405f",
   "metadata": {},
   "outputs": [],
   "source": [
    "DEVICE = \"cuda\" if torch.cuda.is_available() else \"cpu\"\n",
    "model = DoubleUNet().to(DEVICE)\n",
    "model = torch.nn.DataParallel(model, device_ids=[0,1])\n",
    "optimizer = torch.optim.AdamW(model.parameters(), lr=0.0005)\n",
    "lossfn = nn.BCEWithLogitsLoss()\n"
   ]
  },
  {
   "cell_type": "code",
   "execution_count": 9,
   "id": "9fe0dc31-7284-4c32-be10-922a7e51443e",
   "metadata": {},
   "outputs": [
    {
     "name": "stdout",
     "output_type": "stream",
     "text": [
      "****** EPOCH: [1/30] LR: 0.0005 ******\n"
     ]
    },
    {
     "name": "stderr",
     "output_type": "stream",
     "text": [
      "Training: 100%|██████████| 4106/4106 [06:08<00:00, 11.14it/s, train_loss=0.418]\n",
      "Evaluation: 100%|██████████| 217/217 [00:19<00:00, 10.90it/s, test_loss=0.201]\n"
     ]
    },
    {
     "name": "stdout",
     "output_type": "stream",
     "text": [
      "Training Loss: 0.3216789688641016 Validation Loss: 0.23000226722609612\n",
      ":::SAVING MODEL:::\n",
      "****** EPOCH: [2/30] LR: 0.0005 ******\n"
     ]
    },
    {
     "name": "stderr",
     "output_type": "stream",
     "text": [
      "Training: 100%|██████████| 4106/4106 [06:02<00:00, 11.31it/s, train_loss=1.27] \n",
      "Evaluation: 100%|██████████| 217/217 [00:20<00:00, 10.71it/s, test_loss=0.067]\n"
     ]
    },
    {
     "name": "stdout",
     "output_type": "stream",
     "text": [
      "Training Loss: 0.20942109991980945 Validation Loss: 0.2026928782394405\n",
      ":::SAVING MODEL:::\n",
      "****** EPOCH: [3/30] LR: 0.0005 ******\n"
     ]
    },
    {
     "name": "stderr",
     "output_type": "stream",
     "text": [
      "Training: 100%|██████████| 4106/4106 [05:57<00:00, 11.49it/s, train_loss=0.365] \n",
      "Evaluation: 100%|██████████| 217/217 [00:18<00:00, 11.62it/s, test_loss=0.0582]\n"
     ]
    },
    {
     "name": "stdout",
     "output_type": "stream",
     "text": [
      "Training Loss: 0.18213950777657717 Validation Loss: 0.1626211015275821\n",
      ":::SAVING MODEL:::\n",
      "****** EPOCH: [4/30] LR: 0.0005 ******\n"
     ]
    },
    {
     "name": "stderr",
     "output_type": "stream",
     "text": [
      "Training: 100%|██████████| 4106/4106 [05:58<00:00, 11.46it/s, train_loss=1.5]   \n",
      "Evaluation: 100%|██████████| 217/217 [00:18<00:00, 11.48it/s, test_loss=0.0835]\n"
     ]
    },
    {
     "name": "stdout",
     "output_type": "stream",
     "text": [
      "Training Loss: 0.16111293592237577 Validation Loss: 0.15304447301933843\n",
      ":::SAVING MODEL:::\n",
      "****** EPOCH: [5/30] LR: 0.0005 ******\n"
     ]
    },
    {
     "name": "stderr",
     "output_type": "stream",
     "text": [
      "Training: 100%|██████████| 4106/4106 [06:00<00:00, 11.39it/s, train_loss=0.703] \n",
      "Evaluation: 100%|██████████| 217/217 [00:19<00:00, 11.41it/s, test_loss=0.0703]\n"
     ]
    },
    {
     "name": "stdout",
     "output_type": "stream",
     "text": [
      "Training Loss: 0.1437189778248624 Validation Loss: 0.1318361650688857\n",
      ":::SAVING MODEL:::\n",
      "****** EPOCH: [6/30] LR: 0.0005 ******\n"
     ]
    },
    {
     "name": "stderr",
     "output_type": "stream",
     "text": [
      "Training: 100%|██████████| 4106/4106 [06:03<00:00, 11.28it/s, train_loss=0.753] \n",
      "Evaluation: 100%|██████████| 217/217 [00:19<00:00, 11.28it/s, test_loss=0.0742]\n"
     ]
    },
    {
     "name": "stdout",
     "output_type": "stream",
     "text": [
      "Training Loss: 0.13090294922706097 Validation Loss: 0.12431272421427036\n",
      ":::SAVING MODEL:::\n",
      "****** EPOCH: [7/30] LR: 0.0005 ******\n"
     ]
    },
    {
     "name": "stderr",
     "output_type": "stream",
     "text": [
      "Training: 100%|██████████| 4106/4106 [06:04<00:00, 11.26it/s, train_loss=0.55]  \n",
      "Evaluation: 100%|██████████| 217/217 [00:19<00:00, 11.30it/s, test_loss=0.0519]\n"
     ]
    },
    {
     "name": "stdout",
     "output_type": "stream",
     "text": [
      "Training Loss: 0.12268961975927098 Validation Loss: 0.1322244616560123\n",
      "****** EPOCH: [8/30] LR: 0.0005 ******\n"
     ]
    },
    {
     "name": "stderr",
     "output_type": "stream",
     "text": [
      "Training: 100%|██████████| 4106/4106 [06:05<00:00, 11.25it/s, train_loss=2.32]  \n",
      "Evaluation: 100%|██████████| 217/217 [00:19<00:00, 11.25it/s, test_loss=0.021] \n"
     ]
    },
    {
     "name": "stdout",
     "output_type": "stream",
     "text": [
      "Training Loss: 0.11650475881961109 Validation Loss: 0.11306782214460286\n",
      ":::SAVING MODEL:::\n",
      "****** EPOCH: [9/30] LR: 0.0005 ******\n"
     ]
    },
    {
     "name": "stderr",
     "output_type": "stream",
     "text": [
      "Training: 100%|██████████| 4106/4106 [06:05<00:00, 11.23it/s, train_loss=0.504] \n",
      "Evaluation: 100%|██████████| 217/217 [00:18<00:00, 11.44it/s, test_loss=0.0205]\n"
     ]
    },
    {
     "name": "stdout",
     "output_type": "stream",
     "text": [
      "Training Loss: 0.11005790985910212 Validation Loss: 0.12571278780973452\n",
      "****** EPOCH: [10/30] LR: 0.0005 ******\n"
     ]
    },
    {
     "name": "stderr",
     "output_type": "stream",
     "text": [
      "Training: 100%|██████████| 4106/4106 [06:05<00:00, 11.24it/s, train_loss=0.308] \n",
      "Evaluation: 100%|██████████| 217/217 [00:18<00:00, 11.49it/s, test_loss=0.0338]\n"
     ]
    },
    {
     "name": "stdout",
     "output_type": "stream",
     "text": [
      "Training Loss: 0.10539616292993063 Validation Loss: 0.13233893498572336\n",
      "****** EPOCH: [11/30] LR: 0.0005 ******\n"
     ]
    },
    {
     "name": "stderr",
     "output_type": "stream",
     "text": [
      "Training: 100%|██████████| 4106/4106 [06:04<00:00, 11.26it/s, train_loss=0.293] \n",
      "Evaluation: 100%|██████████| 217/217 [00:19<00:00, 11.18it/s, test_loss=0.041] \n"
     ]
    },
    {
     "name": "stdout",
     "output_type": "stream",
     "text": [
      "Training Loss: 0.10076399779975181 Validation Loss: 0.11235195317644678\n",
      ":::SAVING MODEL:::\n",
      "****** EPOCH: [12/30] LR: 0.0005 ******\n"
     ]
    },
    {
     "name": "stderr",
     "output_type": "stream",
     "text": [
      "Training: 100%|██████████| 4106/4106 [06:04<00:00, 11.25it/s, train_loss=0.559] \n",
      "Evaluation: 100%|██████████| 217/217 [00:19<00:00, 11.20it/s, test_loss=0.0341]\n"
     ]
    },
    {
     "name": "stdout",
     "output_type": "stream",
     "text": [
      "Training Loss: 0.09786586630209387 Validation Loss: 0.1168627736720896\n",
      "****** EPOCH: [13/30] LR: 0.0005 ******\n"
     ]
    },
    {
     "name": "stderr",
     "output_type": "stream",
     "text": [
      "Training: 100%|██████████| 4106/4106 [06:05<00:00, 11.23it/s, train_loss=1.44]  \n",
      "Evaluation: 100%|██████████| 217/217 [00:19<00:00, 11.23it/s, test_loss=0.0394]\n"
     ]
    },
    {
     "name": "stdout",
     "output_type": "stream",
     "text": [
      "Training Loss: 0.09469908603802286 Validation Loss: 0.12128969345430625\n",
      "****** EPOCH: [14/30] LR: 0.0005 ******\n"
     ]
    },
    {
     "name": "stderr",
     "output_type": "stream",
     "text": [
      "Training: 100%|██████████| 4106/4106 [06:05<00:00, 11.22it/s, train_loss=0.408] \n",
      "Evaluation: 100%|██████████| 217/217 [00:19<00:00, 11.08it/s, test_loss=0.65] \n"
     ]
    },
    {
     "name": "stdout",
     "output_type": "stream",
     "text": [
      "Training Loss: 0.09213334601417844 Validation Loss: 0.17118248690245888\n",
      "****** EPOCH: [15/30] LR: 0.0005 ******\n"
     ]
    },
    {
     "name": "stderr",
     "output_type": "stream",
     "text": [
      "Training: 100%|██████████| 4106/4106 [06:05<00:00, 11.22it/s, train_loss=0.84]  \n",
      "Evaluation: 100%|██████████| 217/217 [00:19<00:00, 11.25it/s, test_loss=0.149] \n"
     ]
    },
    {
     "name": "stdout",
     "output_type": "stream",
     "text": [
      "Training Loss: 0.08897086550448502 Validation Loss: 0.12276335712951449\n",
      "****** EPOCH: [16/30] LR: 0.0005 ******\n"
     ]
    },
    {
     "name": "stderr",
     "output_type": "stream",
     "text": [
      "Training: 100%|██████████| 4106/4106 [06:06<00:00, 11.19it/s, train_loss=3.19]  \n",
      "Evaluation: 100%|██████████| 217/217 [00:18<00:00, 11.44it/s, test_loss=0.0525]\n"
     ]
    },
    {
     "name": "stdout",
     "output_type": "stream",
     "text": [
      "Training Loss: 0.0872648033774805 Validation Loss: 0.121574606008244\n",
      "****** EPOCH: [17/30] LR: 0.0005 ******\n"
     ]
    },
    {
     "name": "stderr",
     "output_type": "stream",
     "text": [
      "Training: 100%|██████████| 4106/4106 [06:05<00:00, 11.24it/s, train_loss=0.458] \n",
      "Evaluation: 100%|██████████| 217/217 [00:18<00:00, 11.62it/s, test_loss=0.0254]\n"
     ]
    },
    {
     "name": "stdout",
     "output_type": "stream",
     "text": [
      "Training Loss: 0.08497097624009461 Validation Loss: 0.10078146901788525\n",
      ":::SAVING MODEL:::\n",
      "****** EPOCH: [18/30] LR: 0.0005 ******\n"
     ]
    },
    {
     "name": "stderr",
     "output_type": "stream",
     "text": [
      "Training: 100%|██████████| 4106/4106 [06:05<00:00, 11.22it/s, train_loss=0.469] \n",
      "Evaluation: 100%|██████████| 217/217 [00:19<00:00, 11.38it/s, test_loss=0.0259]\n"
     ]
    },
    {
     "name": "stdout",
     "output_type": "stream",
     "text": [
      "Training Loss: 0.08303149349087485 Validation Loss: 0.10254104165918267\n",
      "****** EPOCH: [19/30] LR: 0.0005 ******\n"
     ]
    },
    {
     "name": "stderr",
     "output_type": "stream",
     "text": [
      "Training: 100%|██████████| 4106/4106 [06:05<00:00, 11.25it/s, train_loss=0.511] \n",
      "Evaluation: 100%|██████████| 217/217 [00:19<00:00, 11.40it/s, test_loss=0.0546]\n"
     ]
    },
    {
     "name": "stdout",
     "output_type": "stream",
     "text": [
      "Training Loss: 0.08141464452248809 Validation Loss: 0.11954197581119251\n",
      "****** EPOCH: [20/30] LR: 0.0005 ******\n"
     ]
    },
    {
     "name": "stderr",
     "output_type": "stream",
     "text": [
      "Training: 100%|██████████| 4106/4106 [06:06<00:00, 11.22it/s, train_loss=0.482] \n",
      "Evaluation: 100%|██████████| 217/217 [00:19<00:00, 11.21it/s, test_loss=0.501]\n"
     ]
    },
    {
     "name": "stdout",
     "output_type": "stream",
     "text": [
      "Training Loss: 0.07888876381287097 Validation Loss: 0.21311894134717055\n",
      "****** EPOCH: [21/30] LR: 0.0005 ******\n"
     ]
    },
    {
     "name": "stderr",
     "output_type": "stream",
     "text": [
      "Training: 100%|██████████| 4106/4106 [06:07<00:00, 11.18it/s, train_loss=1.56]  \n",
      "Evaluation: 100%|██████████| 217/217 [00:19<00:00, 11.34it/s, test_loss=0.128] \n"
     ]
    },
    {
     "name": "stdout",
     "output_type": "stream",
     "text": [
      "Training Loss: 0.07793829708935804 Validation Loss: 0.15538596955861914\n",
      "****** EPOCH: [22/30] LR: 0.0005 ******\n"
     ]
    },
    {
     "name": "stderr",
     "output_type": "stream",
     "text": [
      "Training: 100%|██████████| 4106/4106 [06:06<00:00, 11.22it/s, train_loss=4.33]  \n",
      "Evaluation: 100%|██████████| 217/217 [00:19<00:00, 11.25it/s, test_loss=0.347] \n"
     ]
    },
    {
     "name": "stdout",
     "output_type": "stream",
     "text": [
      "Training Loss: 0.07742668169605488 Validation Loss: 0.19832430237449258\n",
      "****** EPOCH: [23/30] LR: 0.0005 ******\n"
     ]
    },
    {
     "name": "stderr",
     "output_type": "stream",
     "text": [
      "Training: 100%|██████████| 4106/4106 [06:04<00:00, 11.26it/s, train_loss=2.36]  \n",
      "Evaluation: 100%|██████████| 217/217 [00:19<00:00, 11.36it/s, test_loss=0.0749]\n"
     ]
    },
    {
     "name": "stdout",
     "output_type": "stream",
     "text": [
      "Training Loss: 0.07564470123933312 Validation Loss: 0.11891179531812668\n",
      "****** EPOCH: [24/30] LR: 0.0005 ******\n"
     ]
    },
    {
     "name": "stderr",
     "output_type": "stream",
     "text": [
      "Training: 100%|██████████| 4106/4106 [06:06<00:00, 11.21it/s, train_loss=0.482] \n",
      "Evaluation: 100%|██████████| 217/217 [00:20<00:00, 10.52it/s, test_loss=0.226] \n"
     ]
    },
    {
     "name": "stdout",
     "output_type": "stream",
     "text": [
      "Training Loss: 0.07447822490789602 Validation Loss: 0.1662437147053156\n",
      "****** EPOCH: [25/30] LR: 0.0005 ******\n"
     ]
    },
    {
     "name": "stderr",
     "output_type": "stream",
     "text": [
      "Training: 100%|██████████| 4106/4106 [06:06<00:00, 11.21it/s, train_loss=1.51]  \n",
      "Evaluation: 100%|██████████| 217/217 [00:19<00:00, 11.25it/s, test_loss=0.326]\n"
     ]
    },
    {
     "name": "stdout",
     "output_type": "stream",
     "text": [
      "Training Loss: 0.0727098018694914 Validation Loss: 0.17160854114365467\n",
      "****** EPOCH: [26/30] LR: 0.0005 ******\n"
     ]
    },
    {
     "name": "stderr",
     "output_type": "stream",
     "text": [
      "Training: 100%|██████████| 4106/4106 [06:06<00:00, 11.21it/s, train_loss=0.546] \n",
      "Evaluation: 100%|██████████| 217/217 [00:19<00:00, 10.98it/s, test_loss=0.0961]\n"
     ]
    },
    {
     "name": "stdout",
     "output_type": "stream",
     "text": [
      "Training Loss: 0.07168167580057007 Validation Loss: 0.10953418986039228\n",
      "****** EPOCH: [27/30] LR: 0.0005 ******\n"
     ]
    },
    {
     "name": "stderr",
     "output_type": "stream",
     "text": [
      "Training: 100%|██████████| 4106/4106 [06:06<00:00, 11.22it/s, train_loss=1.01]  \n",
      "Evaluation: 100%|██████████| 217/217 [00:19<00:00, 11.31it/s, test_loss=1.06] \n"
     ]
    },
    {
     "name": "stdout",
     "output_type": "stream",
     "text": [
      "Training Loss: 0.07070562272131646 Validation Loss: 0.40088139110446525\n",
      "****** EPOCH: [28/30] LR: 0.0005 ******\n"
     ]
    },
    {
     "name": "stderr",
     "output_type": "stream",
     "text": [
      "Training: 100%|██████████| 4106/4106 [06:06<00:00, 11.21it/s, train_loss=0.889] \n",
      "Evaluation: 100%|██████████| 217/217 [00:20<00:00, 10.81it/s, test_loss=0.0221]\n"
     ]
    },
    {
     "name": "stdout",
     "output_type": "stream",
     "text": [
      "Training Loss: 0.07017801817428526 Validation Loss: 0.09138643277233921\n",
      ":::SAVING MODEL:::\n",
      "****** EPOCH: [29/30] LR: 0.0005 ******\n"
     ]
    },
    {
     "name": "stderr",
     "output_type": "stream",
     "text": [
      "Training: 100%|██████████| 4106/4106 [06:05<00:00, 11.24it/s, train_loss=1.02]  \n",
      "Evaluation: 100%|██████████| 217/217 [00:19<00:00, 11.31it/s, test_loss=0.0248]\n"
     ]
    },
    {
     "name": "stdout",
     "output_type": "stream",
     "text": [
      "Training Loss: 0.06963058071700004 Validation Loss: 0.07710096736176772\n",
      ":::SAVING MODEL:::\n",
      "****** EPOCH: [30/30] LR: 0.0005 ******\n"
     ]
    },
    {
     "name": "stderr",
     "output_type": "stream",
     "text": [
      "Training: 100%|██████████| 4106/4106 [06:06<00:00, 11.21it/s, train_loss=0.347] \n",
      "Evaluation: 100%|██████████| 217/217 [00:19<00:00, 11.04it/s, test_loss=0.0231]"
     ]
    },
    {
     "name": "stdout",
     "output_type": "stream",
     "text": [
      "Training Loss: 0.06801516286569706 Validation Loss: 0.08885961134106882\n"
     ]
    },
    {
     "name": "stderr",
     "output_type": "stream",
     "text": [
      "\n"
     ]
    }
   ],
   "source": [
    "EPOCHS = 30\n",
    "\n",
    "smallest_loss = np.inf\n",
    "\n",
    "mean_train_loss = []\n",
    "meat_test_loss = []\n",
    "for epoch in range(1, EPOCHS+1):\n",
    "    print(\"****** EPOCH: [{}/{}] LR: {} ******\".format(epoch, EPOCHS, round(optimizer.param_groups[0]['lr'], 4)))\n",
    "    train_loss = []\n",
    "    test_loss = []\n",
    "\n",
    "    model.train() # Put in training mode\n",
    "    loop_train = tqdm(trainloader, total=len(trainloader), leave=True)\n",
    "    for idx, (map_patch, seg_patch, label) in enumerate(loop_train):\n",
    "        map_patch, seg_patch, label = map_patch.to(DEVICE), seg_patch.to(DEVICE), label.to(DEVICE)\n",
    "\n",
    "        optimizer.zero_grad()\n",
    "        forward_out = model.forward(map_patch, label)\n",
    "\n",
    "        train_loss_val = lossfn(forward_out, seg_patch)\n",
    "        train_loss_val.backward()\n",
    "        optimizer.step()\n",
    "\n",
    "        train_loss.append(train_loss_val.item())\n",
    "        \n",
    "        loop_train.set_description(f\"Training\")\n",
    "        loop_train.set_postfix(train_loss=train_loss_val.item())\n",
    "    \n",
    "    model.eval()\n",
    "    loop_test = tqdm(testloader, total=len(testloader), leave=True)\n",
    "    for idx, (map_patch, seg_patch, label) in enumerate(loop_test):\n",
    "        map_patch, seg_patch, label = map_patch.to(DEVICE), seg_patch.to(DEVICE), label.to(DEVICE)\n",
    "    \n",
    "        with torch.no_grad():\n",
    "            forward_out = model.forward(map_patch, label) # Forward pass\n",
    "            test_loss_val = lossfn(forward_out, seg_patch) # Calculate loss\n",
    "\n",
    "            test_loss.append(test_loss_val.item())\n",
    "            \n",
    "            loop_test.set_description(f\"Evaluation\")\n",
    "            loop_test.set_postfix(test_loss=test_loss_val.item())\n",
    "    \n",
    "    mean_epoch_train_loss = np.mean(train_loss)\n",
    "    mean_epoch_test_loss = np.mean(test_loss)\n",
    "    print(f\"Training Loss: {mean_epoch_train_loss} Validation Loss: {mean_epoch_test_loss}\")\n",
    "    \n",
    "    if mean_epoch_test_loss < smallest_loss:\n",
    "        print(\":::SAVING MODEL:::\")\n",
    "        smallest_loss = mean_epoch_test_loss\n",
    "        torch.save(model.state_dict(), \"model_store/map_unet_dual_path_cat_1.pt\")\n",
    "    \n",
    "    \n",
    "    \n",
    "    "
   ]
  },
  {
   "cell_type": "code",
   "execution_count": 12,
   "id": "a19f23cf",
   "metadata": {},
   "outputs": [
    {
     "data": {
      "image/png": "[encoded data removed]",
      "text/plain": [
       "<Figure size 640x480 with 1 Axes>"
      ]
     },
     "metadata": {},
     "output_type": "display_data"
    }
   ],
   "source": []
  }
 ],
 "metadata": {
  "kernelspec": {
   "display_name": "Python 3",
   "language": "python",
   "name": "python3"
  },
  "language_info": {
   "codemirror_mode": {
    "name": "ipython",
    "version": 3
   },
   "file_extension": ".py",
   "mimetype": "text/x-python",
   "name": "python",
   "nbconvert_exporter": "python",
   "pygments_lexer": "ipython3",
   "version": "3.9.6"
  }
 },
 "nbformat": 4,
 "nbformat_minor": 5
}
