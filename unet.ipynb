{
 "cells": [
  {
   "cell_type": "code",
   "execution_count": 1,
   "id": "bab9ac66-ff1e-4ac5-b348-e2d5ef3a73ed",
   "metadata": {},
   "outputs": [],
   "source": [
    "import torch\n",
    "import torch.nn as nn\n",
    "import torch.nn.functional as F\n",
    "from torchvision import transforms\n",
    "from torch.utils.data import random_split\n",
    "from torch.utils.data import Dataset, DataLoader\n",
    "import os\n",
    "from PIL import Image\n",
    "from tqdm import tqdm\n",
    "import numpy as np\n",
    "\n",
    "PATH_TO_DATA = \"/home/shared/DARPA/patched_data/patch_size_256_patch_overlap_0_legend_size_256/training\""
   ]
  },
  {
   "cell_type": "code",
   "execution_count": 2,
   "id": "4d37ac41-1605-4cce-8c79-4cf9e171475f",
   "metadata": {},
   "outputs": [
    {
     "name": "stdout",
     "output_type": "stream",
     "text": [
      "Thu Oct  6 09:04:13 2022       \n",
      "+-----------------------------------------------------------------------------+\n",
      "| NVIDIA-SMI 515.65.01    Driver Version: 515.65.01    CUDA Version: 11.7     |\n",
      "|-------------------------------+----------------------+----------------------+\n",
      "| GPU  Name        Persistence-M| Bus-Id        Disp.A | Volatile Uncorr. ECC |\n",
      "| Fan  Temp  Perf  Pwr:Usage/Cap|         Memory-Usage | GPU-Util  Compute M. |\n",
      "|                               |                      |               MIG M. |\n",
      "|===============================+======================+======================|\n",
      "|   0  Tesla V100-SXM2...  On   | 00000004:04:00.0 Off |                    0 |\n",
      "| N/A   29C    P0    37W / 300W |      1MiB / 16384MiB |      0%      Default |\n",
      "|                               |                      |                  N/A |\n",
      "+-------------------------------+----------------------+----------------------+\n",
      "|   1  Tesla V100-SXM2...  On   | 00000004:05:00.0 Off |                    0 |\n",
      "| N/A   29C    P0    35W / 300W |      0MiB / 16384MiB |      0%      Default |\n",
      "|                               |                      |                  N/A |\n",
      "+-------------------------------+----------------------+----------------------+\n",
      "                                                                               \n",
      "+-----------------------------------------------------------------------------+\n",
      "| Processes:                                                                  |\n",
      "|  GPU   GI   CI        PID   Type   Process name                  GPU Memory |\n",
      "|        ID   ID                                                   Usage      |\n",
      "|=============================================================================|\n",
      "|  No running processes found                                                 |\n",
      "+-----------------------------------------------------------------------------+\n"
     ]
    }
   ],
   "source": [
    "!nvidia-smi"
   ]
  },
  {
   "cell_type": "code",
   "execution_count": 3,
   "id": "6ec03320-c57e-4500-8285-2020bc2ae311",
   "metadata": {},
   "outputs": [],
   "source": [
    "class DoubleConv(nn.Module):\n",
    "    \"\"\"(convolution => [BN] => ReLU) * 2\"\"\"\n",
    "\n",
    "    def __init__(self, in_channels, out_channels, mid_channels=None):\n",
    "        super().__init__()\n",
    "        if not mid_channels:\n",
    "            mid_channels = out_channels\n",
    "        self.double_conv = nn.Sequential(\n",
    "            nn.Conv2d(in_channels, mid_channels, kernel_size=3, padding=1, bias=False),\n",
    "            nn.BatchNorm2d(mid_channels),\n",
    "            nn.ReLU(inplace=True),\n",
    "            nn.Conv2d(mid_channels, out_channels, kernel_size=3, padding=1, bias=False),\n",
    "            nn.BatchNorm2d(out_channels),\n",
    "            nn.ReLU(inplace=True)\n",
    "        )\n",
    "\n",
    "    def forward(self, x):\n",
    "        return self.double_conv(x)\n",
    "\n",
    "\n",
    "class Down(nn.Module):\n",
    "    \"\"\"Downscaling with maxpool then double conv\"\"\"\n",
    "\n",
    "    def __init__(self, in_channels, out_channels):\n",
    "        super().__init__()\n",
    "        self.maxpool_conv = nn.Sequential(\n",
    "            nn.MaxPool2d(2),\n",
    "            DoubleConv(in_channels, out_channels)\n",
    "        )\n",
    "\n",
    "    def forward(self, x):\n",
    "        return self.maxpool_conv(x)\n",
    "\n",
    "\n",
    "class Up(nn.Module):\n",
    "    \"\"\"Upscaling then double conv\"\"\"\n",
    "\n",
    "    def __init__(self, in_channels, out_channels, bilinear=True, bottleneck=False):\n",
    "        super().__init__()\n",
    "\n",
    "        # if bilinear, use the normal convolutions to reduce the number of channels\n",
    "        if bilinear:\n",
    "            self.up = nn.Upsample(scale_factor=2, mode='bilinear', align_corners=True)\n",
    "            self.conv = DoubleConv(in_channels, out_channels, in_channels // 2)\n",
    "        elif bottleneck:\n",
    "            self.up = nn.ConvTranspose2d(in_channels, in_channels // 4, kernel_size=2, stride=2)\n",
    "            self.conv = DoubleConv(in_channels//2, out_channels)\n",
    "        else:\n",
    "            self.up = nn.ConvTranspose2d(in_channels, in_channels // 2, kernel_size=2, stride=2)\n",
    "            self.conv = DoubleConv(in_channels, out_channels)\n",
    "\n",
    "    def forward(self, x1, x2):\n",
    "        x1 = self.up(x1)\n",
    "\n",
    "        # input is CHW\n",
    "        diffY = x2.size()[2] - x1.size()[2]\n",
    "        diffX = x2.size()[3] - x1.size()[3]\n",
    "\n",
    "        x1 = F.pad(x1, [diffX // 2, diffX - diffX // 2,\n",
    "                        diffY // 2, diffY - diffY // 2])\n",
    "\n",
    "        x = torch.cat([x2, x1], dim=1)\n",
    "        \n",
    "        return self.conv(x)\n",
    "\n",
    "\n",
    "class OutConv(nn.Module):\n",
    "    def __init__(self, in_channels, out_channels):\n",
    "        super(OutConv, self).__init__()\n",
    "        self.conv = nn.Conv2d(in_channels, out_channels, kernel_size=1)\n",
    "\n",
    "    def forward(self, x):\n",
    "        return self.conv(x)"
   ]
  },
  {
   "cell_type": "code",
   "execution_count": 4,
   "id": "6316ff46-34a8-4127-b110-cd688053c2f1",
   "metadata": {},
   "outputs": [],
   "source": [
    "class DoubleUNet(nn.Module):\n",
    "    def __init__(self, n_channels=3, n_classes=1, bilinear=False):\n",
    "        super(DoubleUNet, self).__init__()\n",
    "        self.n_channels = n_channels\n",
    "        self.n_classes = n_classes\n",
    "        self.bilinear = bilinear\n",
    "        \n",
    "        factor = 2 if bilinear else 1\n",
    "            \n",
    "        self.inc = DoubleConv(n_channels, 8)\n",
    "        self.down1 = Down(8, 16)\n",
    "        self.down2 = Down(16, 32)\n",
    "        self.down3 = Down(32, 64)\n",
    "        self.down4 = Down(64, 128 // factor)\n",
    "        self.up1 = Up(256, 64 // factor, bilinear, bottleneck=True)\n",
    "        self.up2 = Up(64, 32 // factor, bilinear)\n",
    "        self.up3 = Up(32, 16 // factor, bilinear)\n",
    "        self.up4 = Up(16, 8, bilinear)\n",
    "        self.outc = OutConv(8, n_classes)\n",
    "    \n",
    "    def encoder(self, x):\n",
    "        x1 = self.inc(x)\n",
    "        x2 = self.down1(x1)\n",
    "        x3 = self.down2(x2)\n",
    "        x4 = self.down3(x3)\n",
    "        x5 = self.down4(x4)\n",
    "        return x1, x2, x3, x4, x5\n",
    "    \n",
    "    def forward(self, map_patch, label):\n",
    "        x1, x2, x3, x4, x5 = self.encoder(map_patch)\n",
    "        label_emb = self.encoder(label)[-1]\n",
    "        x_cat = torch.cat((x5, label_emb), axis=1)\n",
    "        x = self.up1(x_cat, x4)\n",
    "        x = self.up2(x, x3)\n",
    "        x = self.up3(x, x2)\n",
    "        x = self.up4(x, x1)\n",
    "        logits = self.outc(x)\n",
    "        return logits\n"
   ]
  },
  {
   "cell_type": "code",
   "execution_count": 5,
   "id": "ac165cf9-b814-4e32-ad29-25dc75b82ddc",
   "metadata": {},
   "outputs": [],
   "source": [
    "class MapLoader(Dataset):\n",
    "    def __init__(self, PATH_TO_DATA, label_transform, map_transform, seg_transform):\n",
    "        self.label_transforms = label_transform\n",
    "        self.map_transforms = map_transform\n",
    "        self.seg_transforms = seg_transform\n",
    "        self.path_to_map = os.path.join(PATH_TO_DATA, \"map_patches\")\n",
    "        self.path_to_labels = os.path.join(PATH_TO_DATA, \"labels\")\n",
    "        self.path_to_segs = os.path.join(PATH_TO_DATA, \"seg_patches\")\n",
    "        self.filenames = os.listdir(self.path_to_map)\n",
    "        \n",
    "        \n",
    "    def __len__(self):\n",
    "        return len(self.filenames)\n",
    "    \n",
    "    def __getitem__(self, idx):\n",
    "        file = self.filenames[idx]\n",
    "        path_to_map_file = os.path.join(self.path_to_map, file)\n",
    "        path_to_seg_file = os.path.join(self.path_to_segs, file)\n",
    "        path_to_label_file = os.path.join(self.path_to_labels, file)\n",
    "        \n",
    "        map_patch = self.map_transforms(Image.open(path_to_map_file))\n",
    "        seg_patch = self.seg_transforms(Image.open(path_to_seg_file))\n",
    "        label = self.label_transforms(Image.open(path_to_label_file))\n",
    "        \n",
    "        ### RESCALE BETWEEN -1 and 1 ###\n",
    "        map_patch = 2 * map_patch - 1\n",
    "        label = 2 * label - 1\n",
    "        \n",
    "        return map_patch, seg_patch, label\n",
    "        "
   ]
  },
  {
   "cell_type": "code",
   "execution_count": 6,
   "id": "62a8bc13-4db6-47f4-8614-951a90b6f366",
   "metadata": {},
   "outputs": [],
   "source": [
    "# ### CALCULATE NORMALIZATION ###\n",
    "# data_transform = transforms.Compose([\n",
    "#     transforms.ToTensor()\n",
    "# ])\n",
    "\n",
    "# dataset = MapLoader(PATH_TO_DATA, transforms=data_transform)\n",
    "# lengths = [int(len(dataset) * 0.95), len(dataset) - int(len(dataset) * 0.95)]\n",
    "# trainset, _ = random_split(dataset, lengths, generator=torch.Generator().manual_seed(42))\n",
    "\n",
    "# trainloader = DataLoader(trainset, \n",
    "#                          batch_size=32,\n",
    "#                          shuffle=True,\n",
    "#                          num_workers=8)\n",
    "\n",
    "# map_means, map_stds, label_means, label_stds = [], [], [], []\n",
    "\n",
    "# for i, (map_patch, _, label) in tqdm(enumerate(trainloader), total=len(trainloader)):\n",
    "#     map_patch = map_patch.numpy()\n",
    "#     label = label.numpy()\n",
    "    \n",
    "#     map_mean = np.mean(map_patch, axis=(0, 2, 3))\n",
    "#     map_std = np.std(map_patch, axis=(0, 2, 3))\n",
    "    \n",
    "#     label_mean = np.mean(label, axis=(0, 2, 3))\n",
    "#     label_std = np.std(label, axis=(0, 2, 3))\n",
    "    \n",
    "#     map_means.append(map_mean)\n",
    "#     map_stds.append(map_std)\n",
    "#     label_means.append(label_mean)\n",
    "#     label_stds.append(label_std)\n",
    "    \n",
    "\n",
    "# map_mean = torch.tensor(np.mean(map_means, axis=0))\n",
    "# map_std = torch.tensor(np.mean(map_stds, axis=0))\n",
    "\n",
    "# label_mean = torch.tensor(np.mean(label_means, axis=0))\n",
    "# label_std = torch.tensor(np.mean(label_stds, axis=0))\n",
    "\n",
    "# print(f\"Map Mean: {map_mean}\")\n",
    "# print(f\"Map Std: {map_std}\")\n",
    "# print(f\"Label Mean: {label_mean}\")\n",
    "# print(f\"Label Std: {label_std}\")\n",
    "\n"
   ]
  },
  {
   "cell_type": "code",
   "execution_count": 7,
   "id": "a284284a-1c0e-47ed-b63c-97a2ec49c132",
   "metadata": {},
   "outputs": [],
   "source": [
    "map_mean = torch.tensor([0.7677, 0.7403, 0.6487])\n",
    "map_std = torch.tensor([0.2415, 0.2356, 0.2564])\n",
    "label_mean = torch.tensor([0.8048, 0.7714, 0.6715])\n",
    "label_std = torch.tensor([0.2528, 0.2472, 0.2757])\n",
    "\n",
    "map_transform = transforms.Compose([\n",
    "    transforms.Resize((128,128)),\n",
    "    transforms.ToTensor(),\n",
    "    transforms.Normalize(map_mean, map_std)\n",
    "])\n",
    "\n",
    "lab_transform = transforms.Compose([\n",
    "    transforms.Resize((128,128)),\n",
    "    transforms.ToTensor(),\n",
    "    transforms.Normalize(map_mean, map_std)\n",
    "])\n",
    "\n",
    "seg_transform = transforms.Compose([\n",
    "    transforms.Resize((128,128)),\n",
    "    transforms.ToTensor(),\n",
    "])\n",
    "\n",
    "dataset = MapLoader(PATH_TO_DATA, label_transform=lab_transform, map_transform=map_transform, seg_transform=seg_transform)\n",
    "lengths = [int(len(dataset) * 0.95), len(dataset) - int(len(dataset) * 0.95)]\n",
    "trainset, testset = random_split(dataset, lengths, generator=torch.Generator().manual_seed(42))\n",
    "\n",
    "\n",
    "BATCH_SIZE = 64\n",
    "\n",
    "trainloader = DataLoader(trainset, \n",
    "                         batch_size=BATCH_SIZE,\n",
    "                         shuffle=True,\n",
    "                         num_workers=8)\n",
    "\n",
    "\n",
    "testloader = DataLoader(testset, \n",
    "                        batch_size=BATCH_SIZE,\n",
    "                        shuffle=False,\n",
    "                        num_workers=8)\n"
   ]
  },
  {
   "cell_type": "code",
   "execution_count": 8,
   "id": "3ed1cd24-e183-4245-89d9-7ecc4bfc405f",
   "metadata": {},
   "outputs": [],
   "source": [
    "torch.manual_seed(42)\n",
    "DEVICE = \"cuda\" if torch.cuda.is_available() else \"cpu\"\n",
    "model = DoubleUNet().to(DEVICE)\n",
    "model = torch.nn.DataParallel(model, device_ids=[0,1])\n",
    "optimizer = torch.optim.AdamW(model.parameters(), lr=0.0005)\n",
    "lossfn = nn.BCEWithLogitsLoss()"
   ]
  },
  {
   "cell_type": "code",
   "execution_count": null,
   "id": "9fe0dc31-7284-4c32-be10-922a7e51443e",
   "metadata": {},
   "outputs": [
    {
     "name": "stdout",
     "output_type": "stream",
     "text": [
      "****** EPOCH: [1/20] LR: 0.0005 ******\n"
     ]
    },
    {
     "name": "stderr",
     "output_type": "stream",
     "text": [
      "Training: 100%|██████████| 4106/4106 [18:03<00:00,  3.79it/s, train_loss=0.492]\n",
      "Evaluation: 100%|██████████| 217/217 [00:58<00:00,  3.74it/s, test_loss=0.347]\n"
     ]
    },
    {
     "name": "stdout",
     "output_type": "stream",
     "text": [
      "Training Loss: 0.3262303371292698 Validation Loss: 0.22342142655003455\n",
      ":::SAVING MODEL:::\n",
      "****** EPOCH: [2/20] LR: 0.0005 ******\n"
     ]
    },
    {
     "name": "stderr",
     "output_type": "stream",
     "text": [
      "Training: 100%|██████████| 4106/4106 [16:26<00:00,  4.16it/s, train_loss=0.432]\n",
      "Evaluation: 100%|██████████| 217/217 [00:54<00:00,  4.01it/s, test_loss=0.411]\n"
     ]
    },
    {
     "name": "stdout",
     "output_type": "stream",
     "text": [
      "Training Loss: 0.21268350278792647 Validation Loss: 0.20579822399237188\n",
      ":::SAVING MODEL:::\n",
      "****** EPOCH: [3/20] LR: 0.0005 ******\n"
     ]
    },
    {
     "name": "stderr",
     "output_type": "stream",
     "text": [
      "Training: 100%|██████████| 4106/4106 [16:17<00:00,  4.20it/s, train_loss=0.253] \n",
      "Evaluation: 100%|██████████| 217/217 [00:59<00:00,  3.65it/s, test_loss=0.198]\n"
     ]
    },
    {
     "name": "stdout",
     "output_type": "stream",
     "text": [
      "Training Loss: 0.1864007613406173 Validation Loss: 0.1787253584592573\n",
      ":::SAVING MODEL:::\n",
      "****** EPOCH: [4/20] LR: 0.0005 ******\n"
     ]
    },
    {
     "name": "stderr",
     "output_type": "stream",
     "text": [
      "Training: 100%|██████████| 4106/4106 [16:19<00:00,  4.19it/s, train_loss=0.189] \n",
      "Evaluation: 100%|██████████| 217/217 [00:52<00:00,  4.09it/s, test_loss=1.39] \n"
     ]
    },
    {
     "name": "stdout",
     "output_type": "stream",
     "text": [
      "Training Loss: 0.16907009199675385 Validation Loss: 0.1936009648140125\n",
      "****** EPOCH: [5/20] LR: 0.0005 ******\n"
     ]
    },
    {
     "name": "stderr",
     "output_type": "stream",
     "text": [
      "Training: 100%|██████████| 4106/4106 [16:16<00:00,  4.20it/s, train_loss=3.43]  \n",
      "Evaluation: 100%|██████████| 217/217 [00:52<00:00,  4.11it/s, test_loss=1.63] \n"
     ]
    },
    {
     "name": "stdout",
     "output_type": "stream",
     "text": [
      "Training Loss: 0.15738749969342367 Validation Loss: 0.20967585672431277\n",
      "****** EPOCH: [6/20] LR: 0.0005 ******\n"
     ]
    },
    {
     "name": "stderr",
     "output_type": "stream",
     "text": [
      "Training: 100%|██████████| 4106/4106 [16:21<00:00,  4.18it/s, train_loss=0.442] \n",
      "Evaluation: 100%|██████████| 217/217 [00:55<00:00,  3.92it/s, test_loss=1.49]  \n"
     ]
    },
    {
     "name": "stdout",
     "output_type": "stream",
     "text": [
      "Training Loss: 0.14524299829755535 Validation Loss: 0.16484738055462111\n",
      ":::SAVING MODEL:::\n",
      "****** EPOCH: [7/20] LR: 0.0005 ******\n"
     ]
    },
    {
     "name": "stderr",
     "output_type": "stream",
     "text": [
      "Training: 100%|██████████| 4106/4106 [16:14<00:00,  4.21it/s, train_loss=1.59]  \n",
      "Evaluation: 100%|██████████| 217/217 [00:51<00:00,  4.23it/s, test_loss=0.768] \n"
     ]
    },
    {
     "name": "stdout",
     "output_type": "stream",
     "text": [
      "Training Loss: 0.13582452979797105 Validation Loss: 0.1532840453053949\n",
      ":::SAVING MODEL:::\n",
      "****** EPOCH: [8/20] LR: 0.0005 ******\n"
     ]
    },
    {
     "name": "stderr",
     "output_type": "stream",
     "text": [
      "Training: 100%|██████████| 4106/4106 [16:24<00:00,  4.17it/s, train_loss=3.22]  \n",
      "Evaluation: 100%|██████████| 217/217 [01:02<00:00,  3.48it/s, test_loss=0.636] \n"
     ]
    },
    {
     "name": "stdout",
     "output_type": "stream",
     "text": [
      "Training Loss: 0.12704677578139845 Validation Loss: 0.15228648531821468\n",
      ":::SAVING MODEL:::\n",
      "****** EPOCH: [9/20] LR: 0.0005 ******\n"
     ]
    },
    {
     "name": "stderr",
     "output_type": "stream",
     "text": [
      "Training: 100%|██████████| 4106/4106 [17:14<00:00,  3.97it/s, train_loss=1.18]  \n",
      "Evaluation: 100%|██████████| 217/217 [00:56<00:00,  3.84it/s, test_loss=0.168] \n"
     ]
    },
    {
     "name": "stdout",
     "output_type": "stream",
     "text": [
      "Training Loss: 0.11981213921876112 Validation Loss: 0.1434779060051738\n",
      ":::SAVING MODEL:::\n",
      "****** EPOCH: [10/20] LR: 0.0005 ******\n"
     ]
    },
    {
     "name": "stderr",
     "output_type": "stream",
     "text": [
      "Training: 100%|██████████| 4106/4106 [17:10<00:00,  3.98it/s, train_loss=0.469] \n",
      "Evaluation: 100%|██████████| 217/217 [00:54<00:00,  3.98it/s, test_loss=0.228] \n"
     ]
    },
    {
     "name": "stdout",
     "output_type": "stream",
     "text": [
      "Training Loss: 0.11358280735488671 Validation Loss: 0.13709331691814458\n",
      ":::SAVING MODEL:::\n",
      "****** EPOCH: [11/20] LR: 0.0005 ******\n"
     ]
    },
    {
     "name": "stderr",
     "output_type": "stream",
     "text": [
      "Training:  54%|█████▎    | 2204/4106 [09:28<05:06,  6.21it/s, train_loss=0.114] "
     ]
    }
   ],
   "source": [
    "EPOCHS = 20\n",
    "\n",
    "smallest_loss = np.inf\n",
    "\n",
    "mean_train_loss = []\n",
    "meat_test_loss = []\n",
    "for epoch in range(1, EPOCHS+1):\n",
    "    print(\"****** EPOCH: [{}/{}] LR: {} ******\".format(epoch, EPOCHS, round(optimizer.param_groups[0]['lr'], 4)))\n",
    "    train_loss = []\n",
    "    test_loss = []\n",
    "\n",
    "    model.train() # Put in training mode\n",
    "    loop_train = tqdm(trainloader, total=len(trainloader), leave=True)\n",
    "    for idx, (map_patch, seg_patch, label) in enumerate(loop_train):\n",
    "        map_patch, seg_patch, label = map_patch.to(DEVICE), seg_patch.to(DEVICE), label.to(DEVICE)\n",
    "\n",
    "        optimizer.zero_grad()\n",
    "        forward_out = model.forward(map_patch, label)\n",
    "\n",
    "        train_loss_val = lossfn(forward_out, seg_patch)\n",
    "        train_loss_val.backward()\n",
    "        optimizer.step()\n",
    "\n",
    "        train_loss.append(train_loss_val.item())\n",
    "        \n",
    "        loop_train.set_description(f\"Training\")\n",
    "        loop_train.set_postfix(train_loss=train_loss_val.item())\n",
    "    \n",
    "    model.eval()\n",
    "    loop_test = tqdm(testloader, total=len(testloader), leave=True)\n",
    "    for idx, (map_patch, seg_patch, label) in enumerate(loop_test):\n",
    "        map_patch, seg_patch, label = map_patch.to(DEVICE), seg_patch.to(DEVICE), label.to(DEVICE)\n",
    "    \n",
    "        with torch.no_grad():\n",
    "            forward_out = model.forward(map_patch, label) # Forward pass\n",
    "            test_loss_val = lossfn(forward_out, seg_patch) # Calculate loss\n",
    "\n",
    "            test_loss.append(test_loss_val.item())\n",
    "            \n",
    "            loop_test.set_description(f\"Evaluation\")\n",
    "            loop_test.set_postfix(test_loss=test_loss_val.item())\n",
    "    \n",
    "    mean_epoch_train_loss = np.mean(train_loss)\n",
    "    mean_epoch_test_loss = np.mean(test_loss)\n",
    "    print(f\"Training Loss: {mean_epoch_train_loss} Validation Loss: {mean_epoch_test_loss}\")\n",
    "    \n",
    "    if mean_epoch_test_loss < smallest_loss:\n",
    "        print(\":::SAVING MODEL:::\")\n",
    "        smallest_loss = mean_epoch_test_loss\n",
    "        torch.save(model.state_dict(), \"model_store/map_unet.pt\")\n",
    "    \n",
    "    \n",
    "    \n",
    "    "
   ]
  }
 ],
 "metadata": {
  "kernelspec": {
   "display_name": "Python [conda env:.conda-reu]",
   "language": "python",
   "name": "conda-env-.conda-reu-py"
  },
  "language_info": {
   "codemirror_mode": {
    "name": "ipython",
    "version": 3
   },
   "file_extension": ".py",
   "mimetype": "text/x-python",
   "name": "python",
   "nbconvert_exporter": "python",
   "pygments_lexer": "ipython3",
   "version": "3.9.12"
  }
 },
 "nbformat": 4,
 "nbformat_minor": 5
}
